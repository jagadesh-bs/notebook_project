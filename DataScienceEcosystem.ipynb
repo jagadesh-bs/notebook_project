{
 "cells": [
  {
   "cell_type": "markdown",
   "id": "d28c53e7-ad98-4d3f-9276-4ee1e7c90abf",
   "metadata": {
    "tags": []
   },
   "source": [
    "# H1: Data Science Tools and Ecosystem"
   ]
  },
  {
   "cell_type": "markdown",
   "id": "9395dcfe-4a02-4f87-b7ec-50cbe4abb9e7",
   "metadata": {
    "tags": []
   },
   "source": [
    "In this notebook, Data Science Tools and Ecosystem are summarized."
   ]
  },
  {
   "cell_type": "markdown",
   "id": "afab5ed9-dff4-4ce5-bf97-1e93e5be6d16",
   "metadata": {
    "tags": []
   },
   "source": [
    "**Objectives:**\n",
    "\n",
    "- List popular languages for Data Science.\n",
    "- Commonly Used Libraries by Data scientists\n",
    "- Basic Arithmetic operations\n",
    "- Bold and italics"
   ]
  },
  {
   "cell_type": "markdown",
   "id": "8b201599-e31a-464c-b9a1-26dda26c3cc0",
   "metadata": {},
   "source": [
    "Some of the popular languages that Data Scientists use are:\n",
    "\n",
    "1. R\n",
    "2. Julia\n",
    "3. Python\n",
    "4. Scala\n"
   ]
  },
  {
   "cell_type": "markdown",
   "id": "17e749d5-ef3e-4fdd-a8b1-9432932b7b49",
   "metadata": {
    "tags": []
   },
   "source": [
    "Some of the commonly used libraries used by Data Scientists include:\n",
    "\n",
    "1. Panda\n",
    "2. NumPy\n",
    "3. Keras\n",
    "4. PyTorch"
   ]
  },
  {
   "cell_type": "markdown",
   "id": "7f5cdb77-3286-4767-a930-a4436be67a23",
   "metadata": {},
   "source": [
    "| Data Science Tools |\n",
    "| ------------------ |\n",
    "| Anaconda |\n",
    "| TensorFlow |\n",
    "| Weka |\n",
    "| Apache Spark |"
   ]
  },
  {
   "cell_type": "markdown",
   "id": "0d1c81c2-b46e-45c5-8a09-eba30a969ec5",
   "metadata": {},
   "source": [
    "# H3: Below are a few examples of evaluating arithmetic expressions in Python."
   ]
  },
  {
   "cell_type": "code",
   "execution_count": 6,
   "id": "956b3f4b-aa6a-430b-a941-4f542134b8a0",
   "metadata": {
    "tags": []
   },
   "outputs": [
    {
     "data": {
      "text/plain": [
       "17"
      ]
     },
     "execution_count": 6,
     "metadata": {},
     "output_type": "execute_result"
    }
   ],
   "source": [
    "## This a simple arithmetic expression to mutiply then add integers\n",
    "\n",
    "(3*4)+5\n"
   ]
  },
  {
   "cell_type": "code",
   "execution_count": 7,
   "id": "f31c2e91-b64e-4a10-9763-11e127540b7d",
   "metadata": {
    "tags": []
   },
   "outputs": [
    {
     "data": {
      "text/plain": [
       "3.3333333333333335"
      ]
     },
     "execution_count": 7,
     "metadata": {},
     "output_type": "execute_result"
    }
   ],
   "source": [
    "## This will convert 200 minutes to hours by diving by 60.\n",
    "\n",
    "200/60\n"
   ]
  },
  {
   "cell_type": "markdown",
   "id": "0a395400-4c0d-4060-bfd0-7b99d0586f41",
   "metadata": {},
   "source": [
    "# H2: Author\n",
    "Jagadesh Bs"
   ]
  },
  {
   "cell_type": "code",
   "execution_count": null,
   "id": "6d30147c-4a7b-416c-92a1-17bf8591560a",
   "metadata": {},
   "outputs": [],
   "source": []
  }
 ],
 "metadata": {
  "kernelspec": {
   "display_name": "Python",
   "language": "python",
   "name": "conda-env-python-py"
  },
  "language_info": {
   "codemirror_mode": {
    "name": "ipython",
    "version": 3
   },
   "file_extension": ".py",
   "mimetype": "text/x-python",
   "name": "python",
   "nbconvert_exporter": "python",
   "pygments_lexer": "ipython3",
   "version": "3.7.12"
  }
 },
 "nbformat": 4,
 "nbformat_minor": 5
}
